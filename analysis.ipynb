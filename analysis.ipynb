{
 "cells": [
  {
   "cell_type": "code",
   "execution_count": 712,
   "metadata": {},
   "outputs": [],
   "source": [
    "# %pip install pandas\n",
    "# %pip install matplotlib"
   ]
  },
  {
   "cell_type": "code",
   "execution_count": 713,
   "metadata": {},
   "outputs": [],
   "source": [
    "import pandas as pd\n",
    "import matplotlib.pyplot as plt"
   ]
  },
  {
   "cell_type": "markdown",
   "metadata": {},
   "source": [
    "### Чтение датасета"
   ]
  },
  {
   "cell_type": "code",
   "execution_count": 714,
   "metadata": {},
   "outputs": [],
   "source": [
    "df = pd.read_csv('job.csv')"
   ]
  },
  {
   "cell_type": "markdown",
   "metadata": {},
   "source": [
    "### Имена колонок"
   ]
  },
  {
   "cell_type": "code",
   "execution_count": 715,
   "metadata": {},
   "outputs": [
    {
     "data": {
      "text/plain": [
       "Index(['job_title', 'company_name', 'location', 'start_date', 'ctc',\n",
       "       'experience', 'posted'],\n",
       "      dtype='object')"
      ]
     },
     "execution_count": 715,
     "metadata": {},
     "output_type": "execute_result"
    }
   ],
   "source": [
    "df.columns"
   ]
  },
  {
   "cell_type": "markdown",
   "metadata": {},
   "source": [
    "### Длинна датасета\n"
   ]
  },
  {
   "cell_type": "code",
   "execution_count": 716,
   "metadata": {},
   "outputs": [
    {
     "data": {
      "text/plain": [
       "4596"
      ]
     },
     "execution_count": 716,
     "metadata": {},
     "output_type": "execute_result"
    }
   ],
   "source": [
    "len(df)"
   ]
  },
  {
   "cell_type": "markdown",
   "metadata": {},
   "source": [
    "### Список уникальных job_title"
   ]
  },
  {
   "cell_type": "code",
   "execution_count": 717,
   "metadata": {},
   "outputs": [
    {
     "data": {
      "text/plain": [
       "array(['Business Development Associate',\n",
       "       'IELTS/PTE/Spoken English Trainer', 'Fashion Designer', ...,\n",
       "       'Civil Engineer', 'Design Engineer', 'Senior Sales Associate'],\n",
       "      dtype=object)"
      ]
     },
     "execution_count": 717,
     "metadata": {},
     "output_type": "execute_result"
    }
   ],
   "source": [
    "df[\"job_title\"].unique()"
   ]
  },
  {
   "cell_type": "markdown",
   "metadata": {},
   "source": [
    "### Разбить колонку ctc на 2 ctc_max и ctc_min"
   ]
  },
  {
   "cell_type": "code",
   "execution_count": 718,
   "metadata": {},
   "outputs": [],
   "source": [
    "df[['ctc_min', 'ctc_max']] = df['ctc'].str.split('-', expand=True)"
   ]
  },
  {
   "cell_type": "markdown",
   "metadata": {},
   "source": [
    "### Очистить датафрейм от строк где ctc_max или ctc_min не число"
   ]
  },
  {
   "cell_type": "code",
   "execution_count": 719,
   "metadata": {},
   "outputs": [],
   "source": [
    "df = df.dropna(subset=['ctc_min', 'ctc_max'])\n",
    "\n",
    "# чистим числа\n",
    "df[\"ctc_min\"] = df[\"ctc_min\"].replace({'₹': '', ',': '','\\$':''}, regex=True).astype(int)\n",
    "df[\"ctc_max\"] = df[\"ctc_max\"].replace({'₹': '', ',': '','\\$':''}, regex=True).astype(int)\n"
   ]
  },
  {
   "cell_type": "markdown",
   "metadata": {},
   "source": [
    "### уникальный job_title"
   ]
  },
  {
   "cell_type": "code",
   "execution_count": 720,
   "metadata": {},
   "outputs": [],
   "source": [
    "\n",
    "grouped = df.groupby(\"job_title\")"
   ]
  },
  {
   "cell_type": "markdown",
   "metadata": {},
   "source": [
    "### Среднее ctc_min"
   ]
  },
  {
   "cell_type": "code",
   "execution_count": 721,
   "metadata": {},
   "outputs": [
    {
     "data": {
      "text/plain": [
       "job_title\n",
       ".NET Developer                                 291428.571429\n",
       "2D Animator                                    200000.000000\n",
       "3D Animator                                    200000.000000\n",
       "3D Animator In Blender (Medical Animations)    200000.000000\n",
       "3D Designer                                    300000.000000\n",
       "                                                   ...      \n",
       "WordPress Developer                            276250.000000\n",
       "Workshop Trainer                               200000.000000\n",
       "YouTube Influencer                             300000.000000\n",
       "Zonal Assistant Manager- Logistics             360000.000000\n",
       "iOS App Developer                              200000.000000\n",
       "Name: ctc_min, Length: 1535, dtype: float64"
      ]
     },
     "execution_count": 721,
     "metadata": {},
     "output_type": "execute_result"
    }
   ],
   "source": [
    "\n",
    "mean_ctc_min = grouped[\"ctc_min\"].mean()\n",
    "mean_ctc_min"
   ]
  },
  {
   "cell_type": "markdown",
   "metadata": {},
   "source": [
    "### Среднее ctc_max"
   ]
  },
  {
   "cell_type": "code",
   "execution_count": 722,
   "metadata": {},
   "outputs": [
    {
     "data": {
      "text/plain": [
       "job_title\n",
       ".NET Developer                                 488571.428571\n",
       "2D Animator                                    240000.000000\n",
       "3D Animator                                    300000.000000\n",
       "3D Animator In Blender (Medical Animations)    500000.000000\n",
       "3D Designer                                    400000.000000\n",
       "                                                   ...      \n",
       "WordPress Developer                            446250.000000\n",
       "Workshop Trainer                               250000.000000\n",
       "YouTube Influencer                             450000.000000\n",
       "Zonal Assistant Manager- Logistics             400000.000000\n",
       "iOS App Developer                              370000.000000\n",
       "Name: ctc_max, Length: 1535, dtype: float64"
      ]
     },
     "execution_count": 722,
     "metadata": {},
     "output_type": "execute_result"
    }
   ],
   "source": [
    "\n",
    "mean_ctc_max = grouped[\"ctc_max\"].mean()\n",
    "mean_ctc_max "
   ]
  },
  {
   "cell_type": "code",
   "execution_count": 723,
   "metadata": {},
   "outputs": [
    {
     "data": {
      "image/png": "[encoded data removed]",
      "text/plain": [
       "<Figure size 1200x600 with 2 Axes>"
      ]
     },
     "metadata": {},
     "output_type": "display_data"
    }
   ],
   "source": [
    "ctc_max = df['ctc_max']\n",
    "ctc_min = df['ctc_min']\n",
    "\n",
    "plt.figure(figsize=(12,6))\n",
    "\n",
    "plt.subplot(1, 2, 2)\n",
    "plt.hist(ctc_min, bins=30, color='green', alpha=0.7)\n",
    "plt.title('Распределение ctc_min')\n",
    "\n",
    "plt.subplot(1, 2, 1)\n",
    "plt.hist(ctc_max, bins=30, color='blue', alpha=0.7)\n",
    "plt.title('Распределение ctc_max')\n",
    "\n",
    "plt.show()"
   ]
  }
 ],
 "metadata": {
  "kernelspec": {
   "display_name": "base",
   "language": "python",
   "name": "python3"
  },
  "language_info": {
   "codemirror_mode": {
    "name": "ipython",
    "version": 3
   },
   "file_extension": ".py",
   "mimetype": "text/x-python",
   "name": "python",
   "nbconvert_exporter": "python",
   "pygments_lexer": "ipython3",
   "version": "3.10.9"
  }
 },
 "nbformat": 4,
 "nbformat_minor": 2
}
